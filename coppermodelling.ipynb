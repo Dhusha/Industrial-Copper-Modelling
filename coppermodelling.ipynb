{
 "cells": [
  {
   "cell_type": "code",
   "execution_count": 1,
   "metadata": {},
   "outputs": [],
   "source": [
    "import pandas as pd\n",
    "import numpy as np\n",
    "import matplotlib.pyplot as plt\n",
    "import seaborn as sns\n",
    "from sklearn.preprocessing import StandardScaler,LabelEncoder\n",
    "from sklearn.model_selection import train_test_split\n",
    "from sklearn.compose import ColumnTransformer\n",
    "from sklearn.pipeline import Pipeline\n",
    "from sklearn.linear_model import LinearRegression\n",
    "from sklearn.metrics import mean_squared_error, r2_score\n",
    "from sklearn.linear_model import LogisticRegression\n",
    "from sklearn.metrics import accuracy_score, classification_report, confusion_matrix\n",
    "import pickle"
   ]
  },
  {
   "cell_type": "code",
   "execution_count": 2,
   "metadata": {},
   "outputs": [],
   "source": [
    "data = pd.read_excel(r\"C:\\Users\\tpsna\\Downloads\\Copper_Set.xlsx\")"
   ]
  },
  {
   "cell_type": "code",
   "execution_count": 3,
   "metadata": {},
   "outputs": [
    {
     "data": {
      "text/html": [
       "<div>\n",
       "<style scoped>\n",
       "    .dataframe tbody tr th:only-of-type {\n",
       "        vertical-align: middle;\n",
       "    }\n",
       "\n",
       "    .dataframe tbody tr th {\n",
       "        vertical-align: top;\n",
       "    }\n",
       "\n",
       "    .dataframe thead th {\n",
       "        text-align: right;\n",
       "    }\n",
       "</style>\n",
       "<table border=\"1\" class=\"dataframe\">\n",
       "  <thead>\n",
       "    <tr style=\"text-align: right;\">\n",
       "      <th></th>\n",
       "      <th>id</th>\n",
       "      <th>item_date</th>\n",
       "      <th>quantity tons</th>\n",
       "      <th>customer</th>\n",
       "      <th>country</th>\n",
       "      <th>status</th>\n",
       "      <th>item type</th>\n",
       "      <th>application</th>\n",
       "      <th>thickness</th>\n",
       "      <th>width</th>\n",
       "      <th>material_ref</th>\n",
       "      <th>product_ref</th>\n",
       "      <th>delivery date</th>\n",
       "      <th>selling_price</th>\n",
       "    </tr>\n",
       "  </thead>\n",
       "  <tbody>\n",
       "    <tr>\n",
       "      <th>0</th>\n",
       "      <td>EC06F063-9DF0-440C-8764-0B0C05A4F6AE</td>\n",
       "      <td>20210401.0</td>\n",
       "      <td>54.151139</td>\n",
       "      <td>30156308.0</td>\n",
       "      <td>28.0</td>\n",
       "      <td>Won</td>\n",
       "      <td>W</td>\n",
       "      <td>10.0</td>\n",
       "      <td>2.00</td>\n",
       "      <td>1500.0</td>\n",
       "      <td>DEQ1 S460MC</td>\n",
       "      <td>1670798778</td>\n",
       "      <td>20210701.0</td>\n",
       "      <td>854.00</td>\n",
       "    </tr>\n",
       "    <tr>\n",
       "      <th>1</th>\n",
       "      <td>4E5F4B3D-DDDF-499D-AFDE-A3227EC49425</td>\n",
       "      <td>20210401.0</td>\n",
       "      <td>768.024839</td>\n",
       "      <td>30202938.0</td>\n",
       "      <td>25.0</td>\n",
       "      <td>Won</td>\n",
       "      <td>W</td>\n",
       "      <td>41.0</td>\n",
       "      <td>0.80</td>\n",
       "      <td>1210.0</td>\n",
       "      <td>0000000000000000000000000000000000104991</td>\n",
       "      <td>1668701718</td>\n",
       "      <td>20210401.0</td>\n",
       "      <td>1047.00</td>\n",
       "    </tr>\n",
       "    <tr>\n",
       "      <th>2</th>\n",
       "      <td>E140FF1B-2407-4C02-A0DD-780A093B1158</td>\n",
       "      <td>20210401.0</td>\n",
       "      <td>386.127949</td>\n",
       "      <td>30153963.0</td>\n",
       "      <td>30.0</td>\n",
       "      <td>Won</td>\n",
       "      <td>WI</td>\n",
       "      <td>28.0</td>\n",
       "      <td>0.38</td>\n",
       "      <td>952.0</td>\n",
       "      <td>S0380700</td>\n",
       "      <td>628377</td>\n",
       "      <td>20210101.0</td>\n",
       "      <td>644.33</td>\n",
       "    </tr>\n",
       "    <tr>\n",
       "      <th>3</th>\n",
       "      <td>F8D507A0-9C62-4EFE-831E-33E1DA53BB50</td>\n",
       "      <td>20210401.0</td>\n",
       "      <td>202.411065</td>\n",
       "      <td>30349574.0</td>\n",
       "      <td>32.0</td>\n",
       "      <td>Won</td>\n",
       "      <td>S</td>\n",
       "      <td>59.0</td>\n",
       "      <td>2.30</td>\n",
       "      <td>1317.0</td>\n",
       "      <td>DX51D+ZM310MAO 2.3X1317</td>\n",
       "      <td>1668701718</td>\n",
       "      <td>20210101.0</td>\n",
       "      <td>768.00</td>\n",
       "    </tr>\n",
       "    <tr>\n",
       "      <th>4</th>\n",
       "      <td>4E1C4E78-152B-430A-8094-ADD889C9D0AD</td>\n",
       "      <td>20210401.0</td>\n",
       "      <td>785.526262</td>\n",
       "      <td>30211560.0</td>\n",
       "      <td>28.0</td>\n",
       "      <td>Won</td>\n",
       "      <td>W</td>\n",
       "      <td>10.0</td>\n",
       "      <td>4.00</td>\n",
       "      <td>2000.0</td>\n",
       "      <td>2_S275JR+AR-CL1</td>\n",
       "      <td>640665</td>\n",
       "      <td>20210301.0</td>\n",
       "      <td>577.00</td>\n",
       "    </tr>\n",
       "    <tr>\n",
       "      <th>...</th>\n",
       "      <td>...</td>\n",
       "      <td>...</td>\n",
       "      <td>...</td>\n",
       "      <td>...</td>\n",
       "      <td>...</td>\n",
       "      <td>...</td>\n",
       "      <td>...</td>\n",
       "      <td>...</td>\n",
       "      <td>...</td>\n",
       "      <td>...</td>\n",
       "      <td>...</td>\n",
       "      <td>...</td>\n",
       "      <td>...</td>\n",
       "      <td>...</td>\n",
       "    </tr>\n",
       "    <tr>\n",
       "      <th>181668</th>\n",
       "      <td>DE633116-D1DF-4846-982E-55EFC3658A76</td>\n",
       "      <td>20200702.0</td>\n",
       "      <td>102.482422</td>\n",
       "      <td>30200854.0</td>\n",
       "      <td>25.0</td>\n",
       "      <td>Won</td>\n",
       "      <td>W</td>\n",
       "      <td>41.0</td>\n",
       "      <td>0.96</td>\n",
       "      <td>1220.0</td>\n",
       "      <td>0000000000000000000000000000000001000777</td>\n",
       "      <td>164141591</td>\n",
       "      <td>20200701.0</td>\n",
       "      <td>591.00</td>\n",
       "    </tr>\n",
       "    <tr>\n",
       "      <th>181669</th>\n",
       "      <td>A48374B1-E6DB-45F2-889A-1F9C27C099EB</td>\n",
       "      <td>20200702.0</td>\n",
       "      <td>208.086469</td>\n",
       "      <td>30200854.0</td>\n",
       "      <td>25.0</td>\n",
       "      <td>Won</td>\n",
       "      <td>W</td>\n",
       "      <td>41.0</td>\n",
       "      <td>0.95</td>\n",
       "      <td>1500.0</td>\n",
       "      <td>0000000000000000000000000000000001000227</td>\n",
       "      <td>164141591</td>\n",
       "      <td>20200701.0</td>\n",
       "      <td>589.00</td>\n",
       "    </tr>\n",
       "    <tr>\n",
       "      <th>181670</th>\n",
       "      <td>91643238-5C7B-4237-9A5F-63AE3D35F320</td>\n",
       "      <td>20200702.0</td>\n",
       "      <td>4.235594</td>\n",
       "      <td>30200854.0</td>\n",
       "      <td>25.0</td>\n",
       "      <td>Won</td>\n",
       "      <td>W</td>\n",
       "      <td>41.0</td>\n",
       "      <td>0.71</td>\n",
       "      <td>1250.0</td>\n",
       "      <td>0000000000000000000000000000000001004216</td>\n",
       "      <td>164141591</td>\n",
       "      <td>20200701.0</td>\n",
       "      <td>619.00</td>\n",
       "    </tr>\n",
       "    <tr>\n",
       "      <th>181671</th>\n",
       "      <td>7AFFD323-01D9-4E15-B80D-7D1B03498FC8</td>\n",
       "      <td>20200702.0</td>\n",
       "      <td>-2000</td>\n",
       "      <td>30200854.0</td>\n",
       "      <td>25.0</td>\n",
       "      <td>Won</td>\n",
       "      <td>W</td>\n",
       "      <td>41.0</td>\n",
       "      <td>0.85</td>\n",
       "      <td>1250.0</td>\n",
       "      <td>0000000000000000000000000000000001001149</td>\n",
       "      <td>164141591</td>\n",
       "      <td>20200701.0</td>\n",
       "      <td>601.00</td>\n",
       "    </tr>\n",
       "    <tr>\n",
       "      <th>181672</th>\n",
       "      <td>AD0CA853-AE3C-4B2F-9FBB-8B0B965F84BC</td>\n",
       "      <td>20200702.0</td>\n",
       "      <td>406.686538</td>\n",
       "      <td>30200854.0</td>\n",
       "      <td>25.0</td>\n",
       "      <td>Won</td>\n",
       "      <td>W</td>\n",
       "      <td>41.0</td>\n",
       "      <td>0.71</td>\n",
       "      <td>1240.0</td>\n",
       "      <td>0000000000000000000000000000000001005439</td>\n",
       "      <td>164141591</td>\n",
       "      <td>20200701.0</td>\n",
       "      <td>607.00</td>\n",
       "    </tr>\n",
       "  </tbody>\n",
       "</table>\n",
       "<p>181673 rows × 14 columns</p>\n",
       "</div>"
      ],
      "text/plain": [
       "                                          id   item_date quantity tons  \\\n",
       "0       EC06F063-9DF0-440C-8764-0B0C05A4F6AE  20210401.0     54.151139   \n",
       "1       4E5F4B3D-DDDF-499D-AFDE-A3227EC49425  20210401.0    768.024839   \n",
       "2       E140FF1B-2407-4C02-A0DD-780A093B1158  20210401.0    386.127949   \n",
       "3       F8D507A0-9C62-4EFE-831E-33E1DA53BB50  20210401.0    202.411065   \n",
       "4       4E1C4E78-152B-430A-8094-ADD889C9D0AD  20210401.0    785.526262   \n",
       "...                                      ...         ...           ...   \n",
       "181668  DE633116-D1DF-4846-982E-55EFC3658A76  20200702.0    102.482422   \n",
       "181669  A48374B1-E6DB-45F2-889A-1F9C27C099EB  20200702.0    208.086469   \n",
       "181670  91643238-5C7B-4237-9A5F-63AE3D35F320  20200702.0      4.235594   \n",
       "181671  7AFFD323-01D9-4E15-B80D-7D1B03498FC8  20200702.0         -2000   \n",
       "181672  AD0CA853-AE3C-4B2F-9FBB-8B0B965F84BC  20200702.0    406.686538   \n",
       "\n",
       "          customer  country status item type  application  thickness   width  \\\n",
       "0       30156308.0     28.0    Won         W         10.0       2.00  1500.0   \n",
       "1       30202938.0     25.0    Won         W         41.0       0.80  1210.0   \n",
       "2       30153963.0     30.0    Won        WI         28.0       0.38   952.0   \n",
       "3       30349574.0     32.0    Won         S         59.0       2.30  1317.0   \n",
       "4       30211560.0     28.0    Won         W         10.0       4.00  2000.0   \n",
       "...            ...      ...    ...       ...          ...        ...     ...   \n",
       "181668  30200854.0     25.0    Won         W         41.0       0.96  1220.0   \n",
       "181669  30200854.0     25.0    Won         W         41.0       0.95  1500.0   \n",
       "181670  30200854.0     25.0    Won         W         41.0       0.71  1250.0   \n",
       "181671  30200854.0     25.0    Won         W         41.0       0.85  1250.0   \n",
       "181672  30200854.0     25.0    Won         W         41.0       0.71  1240.0   \n",
       "\n",
       "                                    material_ref  product_ref  delivery date  \\\n",
       "0                                    DEQ1 S460MC   1670798778     20210701.0   \n",
       "1       0000000000000000000000000000000000104991   1668701718     20210401.0   \n",
       "2                                       S0380700       628377     20210101.0   \n",
       "3                        DX51D+ZM310MAO 2.3X1317   1668701718     20210101.0   \n",
       "4                                2_S275JR+AR-CL1       640665     20210301.0   \n",
       "...                                          ...          ...            ...   \n",
       "181668  0000000000000000000000000000000001000777    164141591     20200701.0   \n",
       "181669  0000000000000000000000000000000001000227    164141591     20200701.0   \n",
       "181670  0000000000000000000000000000000001004216    164141591     20200701.0   \n",
       "181671  0000000000000000000000000000000001001149    164141591     20200701.0   \n",
       "181672  0000000000000000000000000000000001005439    164141591     20200701.0   \n",
       "\n",
       "        selling_price  \n",
       "0              854.00  \n",
       "1             1047.00  \n",
       "2              644.33  \n",
       "3              768.00  \n",
       "4              577.00  \n",
       "...               ...  \n",
       "181668         591.00  \n",
       "181669         589.00  \n",
       "181670         619.00  \n",
       "181671         601.00  \n",
       "181672         607.00  \n",
       "\n",
       "[181673 rows x 14 columns]"
      ]
     },
     "execution_count": 3,
     "metadata": {},
     "output_type": "execute_result"
    }
   ],
   "source": [
    "data"
   ]
  },
  {
   "cell_type": "code",
   "execution_count": 4,
   "metadata": {},
   "outputs": [
    {
     "data": {
      "text/plain": [
       "(181673, 14)"
      ]
     },
     "execution_count": 4,
     "metadata": {},
     "output_type": "execute_result"
    }
   ],
   "source": [
    "data.shape"
   ]
  },
  {
   "cell_type": "code",
   "execution_count": 5,
   "metadata": {},
   "outputs": [
    {
     "name": "stdout",
     "output_type": "stream",
     "text": [
      "<class 'pandas.core.frame.DataFrame'>\n",
      "RangeIndex: 181673 entries, 0 to 181672\n",
      "Data columns (total 14 columns):\n",
      " #   Column         Non-Null Count   Dtype  \n",
      "---  ------         --------------   -----  \n",
      " 0   id             181671 non-null  object \n",
      " 1   item_date      181672 non-null  float64\n",
      " 2   quantity tons  181673 non-null  object \n",
      " 3   customer       181672 non-null  float64\n",
      " 4   country        181645 non-null  float64\n",
      " 5   status         181671 non-null  object \n",
      " 6   item type      181673 non-null  object \n",
      " 7   application    181649 non-null  float64\n",
      " 8   thickness      181672 non-null  float64\n",
      " 9   width          181673 non-null  float64\n",
      " 10  material_ref   103754 non-null  object \n",
      " 11  product_ref    181673 non-null  int64  \n",
      " 12  delivery date  181672 non-null  float64\n",
      " 13  selling_price  181672 non-null  float64\n",
      "dtypes: float64(8), int64(1), object(5)\n",
      "memory usage: 19.4+ MB\n"
     ]
    }
   ],
   "source": [
    "data.info()"
   ]
  },
  {
   "cell_type": "code",
   "execution_count": 6,
   "metadata": {},
   "outputs": [
    {
     "data": {
      "text/plain": [
       "id                   2\n",
       "item_date            1\n",
       "quantity tons        0\n",
       "customer             1\n",
       "country             28\n",
       "status               2\n",
       "item type            0\n",
       "application         24\n",
       "thickness            1\n",
       "width                0\n",
       "material_ref     77919\n",
       "product_ref          0\n",
       "delivery date        1\n",
       "selling_price        1\n",
       "dtype: int64"
      ]
     },
     "execution_count": 6,
     "metadata": {},
     "output_type": "execute_result"
    }
   ],
   "source": [
    "data.isna().sum()"
   ]
  },
  {
   "cell_type": "code",
   "execution_count": 7,
   "metadata": {},
   "outputs": [
    {
     "data": {
      "text/html": [
       "<div>\n",
       "<style scoped>\n",
       "    .dataframe tbody tr th:only-of-type {\n",
       "        vertical-align: middle;\n",
       "    }\n",
       "\n",
       "    .dataframe tbody tr th {\n",
       "        vertical-align: top;\n",
       "    }\n",
       "\n",
       "    .dataframe thead th {\n",
       "        text-align: right;\n",
       "    }\n",
       "</style>\n",
       "<table border=\"1\" class=\"dataframe\">\n",
       "  <thead>\n",
       "    <tr style=\"text-align: right;\">\n",
       "      <th></th>\n",
       "      <th>count</th>\n",
       "      <th>mean</th>\n",
       "      <th>std</th>\n",
       "      <th>min</th>\n",
       "      <th>25%</th>\n",
       "      <th>50%</th>\n",
       "      <th>75%</th>\n",
       "      <th>max</th>\n",
       "    </tr>\n",
       "  </thead>\n",
       "  <tbody>\n",
       "    <tr>\n",
       "      <th>item_date</th>\n",
       "      <td>181672.0</td>\n",
       "      <td>2.020459e+07</td>\n",
       "      <td>4.551119e+03</td>\n",
       "      <td>19950000.00</td>\n",
       "      <td>20200929.0</td>\n",
       "      <td>20201130.0</td>\n",
       "      <td>2.021020e+07</td>\n",
       "      <td>2.021040e+07</td>\n",
       "    </tr>\n",
       "    <tr>\n",
       "      <th>customer</th>\n",
       "      <td>181672.0</td>\n",
       "      <td>3.051221e+07</td>\n",
       "      <td>2.433382e+07</td>\n",
       "      <td>12458.00</td>\n",
       "      <td>30196884.0</td>\n",
       "      <td>30205242.0</td>\n",
       "      <td>3.028042e+07</td>\n",
       "      <td>2.147484e+09</td>\n",
       "    </tr>\n",
       "    <tr>\n",
       "      <th>country</th>\n",
       "      <td>181645.0</td>\n",
       "      <td>4.489302e+01</td>\n",
       "      <td>2.440421e+01</td>\n",
       "      <td>25.00</td>\n",
       "      <td>26.0</td>\n",
       "      <td>30.0</td>\n",
       "      <td>7.800000e+01</td>\n",
       "      <td>1.130000e+02</td>\n",
       "    </tr>\n",
       "    <tr>\n",
       "      <th>application</th>\n",
       "      <td>181649.0</td>\n",
       "      <td>2.561581e+01</td>\n",
       "      <td>1.775417e+01</td>\n",
       "      <td>2.00</td>\n",
       "      <td>10.0</td>\n",
       "      <td>15.0</td>\n",
       "      <td>4.100000e+01</td>\n",
       "      <td>9.900000e+01</td>\n",
       "    </tr>\n",
       "    <tr>\n",
       "      <th>thickness</th>\n",
       "      <td>181672.0</td>\n",
       "      <td>2.564827e+00</td>\n",
       "      <td>6.572321e+00</td>\n",
       "      <td>0.18</td>\n",
       "      <td>0.7</td>\n",
       "      <td>1.5</td>\n",
       "      <td>3.000000e+00</td>\n",
       "      <td>2.500000e+03</td>\n",
       "    </tr>\n",
       "    <tr>\n",
       "      <th>width</th>\n",
       "      <td>181673.0</td>\n",
       "      <td>1.295287e+03</td>\n",
       "      <td>2.616318e+02</td>\n",
       "      <td>1.00</td>\n",
       "      <td>1180.0</td>\n",
       "      <td>1250.0</td>\n",
       "      <td>1.500000e+03</td>\n",
       "      <td>2.990000e+03</td>\n",
       "    </tr>\n",
       "    <tr>\n",
       "      <th>product_ref</th>\n",
       "      <td>181673.0</td>\n",
       "      <td>4.739679e+08</td>\n",
       "      <td>7.175101e+08</td>\n",
       "      <td>611728.00</td>\n",
       "      <td>611993.0</td>\n",
       "      <td>640665.0</td>\n",
       "      <td>1.332077e+09</td>\n",
       "      <td>1.722208e+09</td>\n",
       "    </tr>\n",
       "    <tr>\n",
       "      <th>delivery date</th>\n",
       "      <td>181672.0</td>\n",
       "      <td>2.020738e+07</td>\n",
       "      <td>2.411059e+04</td>\n",
       "      <td>20190401.00</td>\n",
       "      <td>20201101.0</td>\n",
       "      <td>20210101.0</td>\n",
       "      <td>2.021040e+07</td>\n",
       "      <td>3.031010e+07</td>\n",
       "    </tr>\n",
       "    <tr>\n",
       "      <th>selling_price</th>\n",
       "      <td>181672.0</td>\n",
       "      <td>1.918036e+03</td>\n",
       "      <td>3.317956e+05</td>\n",
       "      <td>-1160.00</td>\n",
       "      <td>669.0</td>\n",
       "      <td>812.0</td>\n",
       "      <td>9.530000e+02</td>\n",
       "      <td>1.000010e+08</td>\n",
       "    </tr>\n",
       "  </tbody>\n",
       "</table>\n",
       "</div>"
      ],
      "text/plain": [
       "                  count          mean           std          min         25%  \\\n",
       "item_date      181672.0  2.020459e+07  4.551119e+03  19950000.00  20200929.0   \n",
       "customer       181672.0  3.051221e+07  2.433382e+07     12458.00  30196884.0   \n",
       "country        181645.0  4.489302e+01  2.440421e+01        25.00        26.0   \n",
       "application    181649.0  2.561581e+01  1.775417e+01         2.00        10.0   \n",
       "thickness      181672.0  2.564827e+00  6.572321e+00         0.18         0.7   \n",
       "width          181673.0  1.295287e+03  2.616318e+02         1.00      1180.0   \n",
       "product_ref    181673.0  4.739679e+08  7.175101e+08    611728.00    611993.0   \n",
       "delivery date  181672.0  2.020738e+07  2.411059e+04  20190401.00  20201101.0   \n",
       "selling_price  181672.0  1.918036e+03  3.317956e+05     -1160.00       669.0   \n",
       "\n",
       "                      50%           75%           max  \n",
       "item_date      20201130.0  2.021020e+07  2.021040e+07  \n",
       "customer       30205242.0  3.028042e+07  2.147484e+09  \n",
       "country              30.0  7.800000e+01  1.130000e+02  \n",
       "application          15.0  4.100000e+01  9.900000e+01  \n",
       "thickness             1.5  3.000000e+00  2.500000e+03  \n",
       "width              1250.0  1.500000e+03  2.990000e+03  \n",
       "product_ref      640665.0  1.332077e+09  1.722208e+09  \n",
       "delivery date  20210101.0  2.021040e+07  3.031010e+07  \n",
       "selling_price       812.0  9.530000e+02  1.000010e+08  "
      ]
     },
     "execution_count": 7,
     "metadata": {},
     "output_type": "execute_result"
    }
   ],
   "source": [
    "data.describe(exclude=object).T\n"
   ]
  },
  {
   "cell_type": "code",
   "execution_count": 8,
   "metadata": {},
   "outputs": [],
   "source": [
    "columns_to_convert_numeric = [\"quantity tons\", \"customer\", \"country\", \"application\", \"thickness\", \"width\", \"selling_price\"]\n",
    "data[columns_to_convert_numeric] = data[columns_to_convert_numeric].apply(pd.to_numeric, errors=\"coerce\")\n"
   ]
  },
  {
   "cell_type": "code",
   "execution_count": 9,
   "metadata": {},
   "outputs": [],
   "source": [
    "columns_to_convert_datetime = ['item_date', 'delivery date']\n",
    "for i in columns_to_convert_datetime:\n",
    "    data[i] = pd.to_datetime(data[i], format='%Y%m%d', errors='coerce').dt.date\n"
   ]
  },
  {
   "cell_type": "code",
   "execution_count": 10,
   "metadata": {},
   "outputs": [],
   "source": [
    "data.loc[data['material_ref'].str.contains(r'0{10,}', na=False), 'material_ref'] = np.nan"
   ]
  },
  {
   "cell_type": "code",
   "execution_count": 11,
   "metadata": {},
   "outputs": [
    {
     "data": {
      "text/plain": [
       "id                    2\n",
       "item_date             3\n",
       "quantity tons         1\n",
       "customer              1\n",
       "country              28\n",
       "status                2\n",
       "item type             0\n",
       "application          24\n",
       "thickness             1\n",
       "width                 0\n",
       "material_ref     100610\n",
       "product_ref           0\n",
       "delivery date         3\n",
       "selling_price         1\n",
       "dtype: int64"
      ]
     },
     "execution_count": 11,
     "metadata": {},
     "output_type": "execute_result"
    }
   ],
   "source": [
    "data.isna().sum()\n"
   ]
  },
  {
   "cell_type": "code",
   "execution_count": 12,
   "metadata": {},
   "outputs": [],
   "source": [
    "data=data.drop(['id'],axis=1)"
   ]
  },
  {
   "cell_type": "code",
   "execution_count": 13,
   "metadata": {},
   "outputs": [],
   "source": [
    "columns_mean = [\"quantity tons\" , \"thickness\", \"width\", \"selling_price\"]\n",
    "means = data[columns_mean].mean()\n",
    "data[columns_mean] = data[columns_mean].fillna(means)"
   ]
  },
  {
   "cell_type": "code",
   "execution_count": 14,
   "metadata": {},
   "outputs": [],
   "source": [
    "columns_mode = ['item_date', 'status', 'delivery date', 'customer', 'country', 'item type', 'application', 'material_ref', 'product_ref']\n",
    "modes = data[columns_mode].mode().iloc[0]\n",
    "data[columns_mode] = data[columns_mode].fillna(modes)\n"
   ]
  },
  {
   "cell_type": "code",
   "execution_count": 15,
   "metadata": {},
   "outputs": [
    {
     "data": {
      "text/plain": [
       "item_date        0\n",
       "quantity tons    0\n",
       "customer         0\n",
       "country          0\n",
       "status           0\n",
       "item type        0\n",
       "application      0\n",
       "thickness        0\n",
       "width            0\n",
       "material_ref     0\n",
       "product_ref      0\n",
       "delivery date    0\n",
       "selling_price    0\n",
       "dtype: int64"
      ]
     },
     "execution_count": 15,
     "metadata": {},
     "output_type": "execute_result"
    }
   ],
   "source": [
    "data.isna().sum()\n"
   ]
  },
  {
   "cell_type": "code",
   "execution_count": 16,
   "metadata": {},
   "outputs": [
    {
     "name": "stdout",
     "output_type": "stream",
     "text": [
      "<class 'pandas.core.frame.DataFrame'>\n",
      "RangeIndex: 181673 entries, 0 to 181672\n",
      "Data columns (total 13 columns):\n",
      " #   Column         Non-Null Count   Dtype  \n",
      "---  ------         --------------   -----  \n",
      " 0   item_date      181673 non-null  object \n",
      " 1   quantity tons  181673 non-null  float64\n",
      " 2   customer       181673 non-null  float64\n",
      " 3   country        181673 non-null  float64\n",
      " 4   status         181673 non-null  object \n",
      " 5   item type      181673 non-null  object \n",
      " 6   application    181673 non-null  float64\n",
      " 7   thickness      181673 non-null  float64\n",
      " 8   width          181673 non-null  float64\n",
      " 9   material_ref   181673 non-null  object \n",
      " 10  product_ref    181673 non-null  int64  \n",
      " 11  delivery date  181673 non-null  object \n",
      " 12  selling_price  181673 non-null  float64\n",
      "dtypes: float64(7), int64(1), object(5)\n",
      "memory usage: 18.0+ MB\n"
     ]
    }
   ],
   "source": [
    "data.info()"
   ]
  },
  {
   "cell_type": "code",
   "execution_count": 17,
   "metadata": {},
   "outputs": [],
   "source": [
    "data['country'] = data['country'].astype(np.int64)\n"
   ]
  },
  {
   "cell_type": "code",
   "execution_count": 18,
   "metadata": {},
   "outputs": [
    {
     "name": "stdout",
     "output_type": "stream",
     "text": [
      "<class 'pandas.core.frame.DataFrame'>\n",
      "RangeIndex: 181673 entries, 0 to 181672\n",
      "Data columns (total 13 columns):\n",
      " #   Column         Non-Null Count   Dtype  \n",
      "---  ------         --------------   -----  \n",
      " 0   item_date      181673 non-null  object \n",
      " 1   quantity tons  181673 non-null  float64\n",
      " 2   customer       181673 non-null  float64\n",
      " 3   country        181673 non-null  int64  \n",
      " 4   status         181673 non-null  object \n",
      " 5   item type      181673 non-null  object \n",
      " 6   application    181673 non-null  float64\n",
      " 7   thickness      181673 non-null  float64\n",
      " 8   width          181673 non-null  float64\n",
      " 9   material_ref   181673 non-null  object \n",
      " 10  product_ref    181673 non-null  int64  \n",
      " 11  delivery date  181673 non-null  object \n",
      " 12  selling_price  181673 non-null  float64\n",
      "dtypes: float64(6), int64(2), object(5)\n",
      "memory usage: 18.0+ MB\n"
     ]
    }
   ],
   "source": [
    "data.info()"
   ]
  },
  {
   "cell_type": "code",
   "execution_count": 19,
   "metadata": {},
   "outputs": [
    {
     "data": {
      "text/html": [
       "<div>\n",
       "<style scoped>\n",
       "    .dataframe tbody tr th:only-of-type {\n",
       "        vertical-align: middle;\n",
       "    }\n",
       "\n",
       "    .dataframe tbody tr th {\n",
       "        vertical-align: top;\n",
       "    }\n",
       "\n",
       "    .dataframe thead th {\n",
       "        text-align: right;\n",
       "    }\n",
       "</style>\n",
       "<table border=\"1\" class=\"dataframe\">\n",
       "  <thead>\n",
       "    <tr style=\"text-align: right;\">\n",
       "      <th></th>\n",
       "      <th>item_date</th>\n",
       "      <th>quantity tons</th>\n",
       "      <th>customer</th>\n",
       "      <th>country</th>\n",
       "      <th>status</th>\n",
       "      <th>item type</th>\n",
       "      <th>application</th>\n",
       "      <th>thickness</th>\n",
       "      <th>width</th>\n",
       "      <th>material_ref</th>\n",
       "      <th>product_ref</th>\n",
       "      <th>delivery date</th>\n",
       "      <th>selling_price</th>\n",
       "    </tr>\n",
       "  </thead>\n",
       "  <tbody>\n",
       "    <tr>\n",
       "      <th>0</th>\n",
       "      <td>2021-04-01</td>\n",
       "      <td>54.151139</td>\n",
       "      <td>30156308.0</td>\n",
       "      <td>28</td>\n",
       "      <td>Won</td>\n",
       "      <td>W</td>\n",
       "      <td>10.0</td>\n",
       "      <td>2.00</td>\n",
       "      <td>1500.0</td>\n",
       "      <td>DEQ1 S460MC</td>\n",
       "      <td>1670798778</td>\n",
       "      <td>2021-07-01</td>\n",
       "      <td>854.00</td>\n",
       "    </tr>\n",
       "    <tr>\n",
       "      <th>1</th>\n",
       "      <td>2021-04-01</td>\n",
       "      <td>768.024839</td>\n",
       "      <td>30202938.0</td>\n",
       "      <td>25</td>\n",
       "      <td>Won</td>\n",
       "      <td>W</td>\n",
       "      <td>41.0</td>\n",
       "      <td>0.80</td>\n",
       "      <td>1210.0</td>\n",
       "      <td>DX51D+Z</td>\n",
       "      <td>1668701718</td>\n",
       "      <td>2021-04-01</td>\n",
       "      <td>1047.00</td>\n",
       "    </tr>\n",
       "    <tr>\n",
       "      <th>2</th>\n",
       "      <td>2021-04-01</td>\n",
       "      <td>386.127949</td>\n",
       "      <td>30153963.0</td>\n",
       "      <td>30</td>\n",
       "      <td>Won</td>\n",
       "      <td>WI</td>\n",
       "      <td>28.0</td>\n",
       "      <td>0.38</td>\n",
       "      <td>952.0</td>\n",
       "      <td>S0380700</td>\n",
       "      <td>628377</td>\n",
       "      <td>2021-01-01</td>\n",
       "      <td>644.33</td>\n",
       "    </tr>\n",
       "    <tr>\n",
       "      <th>3</th>\n",
       "      <td>2021-04-01</td>\n",
       "      <td>202.411065</td>\n",
       "      <td>30349574.0</td>\n",
       "      <td>32</td>\n",
       "      <td>Won</td>\n",
       "      <td>S</td>\n",
       "      <td>59.0</td>\n",
       "      <td>2.30</td>\n",
       "      <td>1317.0</td>\n",
       "      <td>DX51D+ZM310MAO 2.3X1317</td>\n",
       "      <td>1668701718</td>\n",
       "      <td>2021-01-01</td>\n",
       "      <td>768.00</td>\n",
       "    </tr>\n",
       "    <tr>\n",
       "      <th>4</th>\n",
       "      <td>2021-04-01</td>\n",
       "      <td>785.526262</td>\n",
       "      <td>30211560.0</td>\n",
       "      <td>28</td>\n",
       "      <td>Won</td>\n",
       "      <td>W</td>\n",
       "      <td>10.0</td>\n",
       "      <td>4.00</td>\n",
       "      <td>2000.0</td>\n",
       "      <td>2_S275JR+AR-CL1</td>\n",
       "      <td>640665</td>\n",
       "      <td>2021-03-01</td>\n",
       "      <td>577.00</td>\n",
       "    </tr>\n",
       "    <tr>\n",
       "      <th>...</th>\n",
       "      <td>...</td>\n",
       "      <td>...</td>\n",
       "      <td>...</td>\n",
       "      <td>...</td>\n",
       "      <td>...</td>\n",
       "      <td>...</td>\n",
       "      <td>...</td>\n",
       "      <td>...</td>\n",
       "      <td>...</td>\n",
       "      <td>...</td>\n",
       "      <td>...</td>\n",
       "      <td>...</td>\n",
       "      <td>...</td>\n",
       "    </tr>\n",
       "    <tr>\n",
       "      <th>181668</th>\n",
       "      <td>2020-07-02</td>\n",
       "      <td>102.482422</td>\n",
       "      <td>30200854.0</td>\n",
       "      <td>25</td>\n",
       "      <td>Won</td>\n",
       "      <td>W</td>\n",
       "      <td>41.0</td>\n",
       "      <td>0.96</td>\n",
       "      <td>1220.0</td>\n",
       "      <td>DX51D+Z</td>\n",
       "      <td>164141591</td>\n",
       "      <td>2020-07-01</td>\n",
       "      <td>591.00</td>\n",
       "    </tr>\n",
       "    <tr>\n",
       "      <th>181669</th>\n",
       "      <td>2020-07-02</td>\n",
       "      <td>208.086469</td>\n",
       "      <td>30200854.0</td>\n",
       "      <td>25</td>\n",
       "      <td>Won</td>\n",
       "      <td>W</td>\n",
       "      <td>41.0</td>\n",
       "      <td>0.95</td>\n",
       "      <td>1500.0</td>\n",
       "      <td>DX51D+Z</td>\n",
       "      <td>164141591</td>\n",
       "      <td>2020-07-01</td>\n",
       "      <td>589.00</td>\n",
       "    </tr>\n",
       "    <tr>\n",
       "      <th>181670</th>\n",
       "      <td>2020-07-02</td>\n",
       "      <td>4.235594</td>\n",
       "      <td>30200854.0</td>\n",
       "      <td>25</td>\n",
       "      <td>Won</td>\n",
       "      <td>W</td>\n",
       "      <td>41.0</td>\n",
       "      <td>0.71</td>\n",
       "      <td>1250.0</td>\n",
       "      <td>DX51D+Z</td>\n",
       "      <td>164141591</td>\n",
       "      <td>2020-07-01</td>\n",
       "      <td>619.00</td>\n",
       "    </tr>\n",
       "    <tr>\n",
       "      <th>181671</th>\n",
       "      <td>2020-07-02</td>\n",
       "      <td>-2000.000000</td>\n",
       "      <td>30200854.0</td>\n",
       "      <td>25</td>\n",
       "      <td>Won</td>\n",
       "      <td>W</td>\n",
       "      <td>41.0</td>\n",
       "      <td>0.85</td>\n",
       "      <td>1250.0</td>\n",
       "      <td>DX51D+Z</td>\n",
       "      <td>164141591</td>\n",
       "      <td>2020-07-01</td>\n",
       "      <td>601.00</td>\n",
       "    </tr>\n",
       "    <tr>\n",
       "      <th>181672</th>\n",
       "      <td>2020-07-02</td>\n",
       "      <td>406.686538</td>\n",
       "      <td>30200854.0</td>\n",
       "      <td>25</td>\n",
       "      <td>Won</td>\n",
       "      <td>W</td>\n",
       "      <td>41.0</td>\n",
       "      <td>0.71</td>\n",
       "      <td>1240.0</td>\n",
       "      <td>DX51D+Z</td>\n",
       "      <td>164141591</td>\n",
       "      <td>2020-07-01</td>\n",
       "      <td>607.00</td>\n",
       "    </tr>\n",
       "  </tbody>\n",
       "</table>\n",
       "<p>181673 rows × 13 columns</p>\n",
       "</div>"
      ],
      "text/plain": [
       "         item_date  quantity tons    customer  country status item type  \\\n",
       "0       2021-04-01      54.151139  30156308.0       28    Won         W   \n",
       "1       2021-04-01     768.024839  30202938.0       25    Won         W   \n",
       "2       2021-04-01     386.127949  30153963.0       30    Won        WI   \n",
       "3       2021-04-01     202.411065  30349574.0       32    Won         S   \n",
       "4       2021-04-01     785.526262  30211560.0       28    Won         W   \n",
       "...            ...            ...         ...      ...    ...       ...   \n",
       "181668  2020-07-02     102.482422  30200854.0       25    Won         W   \n",
       "181669  2020-07-02     208.086469  30200854.0       25    Won         W   \n",
       "181670  2020-07-02       4.235594  30200854.0       25    Won         W   \n",
       "181671  2020-07-02   -2000.000000  30200854.0       25    Won         W   \n",
       "181672  2020-07-02     406.686538  30200854.0       25    Won         W   \n",
       "\n",
       "        application  thickness   width             material_ref  product_ref  \\\n",
       "0              10.0       2.00  1500.0              DEQ1 S460MC   1670798778   \n",
       "1              41.0       0.80  1210.0                  DX51D+Z   1668701718   \n",
       "2              28.0       0.38   952.0                 S0380700       628377   \n",
       "3              59.0       2.30  1317.0  DX51D+ZM310MAO 2.3X1317   1668701718   \n",
       "4              10.0       4.00  2000.0          2_S275JR+AR-CL1       640665   \n",
       "...             ...        ...     ...                      ...          ...   \n",
       "181668         41.0       0.96  1220.0                  DX51D+Z    164141591   \n",
       "181669         41.0       0.95  1500.0                  DX51D+Z    164141591   \n",
       "181670         41.0       0.71  1250.0                  DX51D+Z    164141591   \n",
       "181671         41.0       0.85  1250.0                  DX51D+Z    164141591   \n",
       "181672         41.0       0.71  1240.0                  DX51D+Z    164141591   \n",
       "\n",
       "       delivery date  selling_price  \n",
       "0         2021-07-01         854.00  \n",
       "1         2021-04-01        1047.00  \n",
       "2         2021-01-01         644.33  \n",
       "3         2021-01-01         768.00  \n",
       "4         2021-03-01         577.00  \n",
       "...              ...            ...  \n",
       "181668    2020-07-01         591.00  \n",
       "181669    2020-07-01         589.00  \n",
       "181670    2020-07-01         619.00  \n",
       "181671    2020-07-01         601.00  \n",
       "181672    2020-07-01         607.00  \n",
       "\n",
       "[181673 rows x 13 columns]"
      ]
     },
     "execution_count": 19,
     "metadata": {},
     "output_type": "execute_result"
    }
   ],
   "source": [
    "data"
   ]
  },
  {
   "cell_type": "code",
   "execution_count": 20,
   "metadata": {},
   "outputs": [
    {
     "data": {
      "text/plain": [
       "(181673, 13)"
      ]
     },
     "execution_count": 20,
     "metadata": {},
     "output_type": "execute_result"
    }
   ],
   "source": [
    "data.shape"
   ]
  },
  {
   "cell_type": "markdown",
   "metadata": {},
   "source": [
    "EXPLORATORY DATA ANALYSIS:"
   ]
  },
  {
   "cell_type": "code",
   "execution_count": 21,
   "metadata": {},
   "outputs": [],
   "source": [
    "data_eda=data.copy(True)"
   ]
  },
  {
   "cell_type": "code",
   "execution_count": null,
   "metadata": {},
   "outputs": [],
   "source": [
    "# Define the columns to plot\n",
    "columns_to_plot = [\n",
    "    'quantity tons', 'customer', 'country', \n",
    "    'application', 'thickness', 'width', 'selling_price'\n",
    "]\n",
    "\n",
    "fig, axes = plt.subplots(len(columns_to_plot), 2, figsize=(15, 30))\n",
    "\n",
    "for i, column in enumerate(columns_to_plot):\n",
    "    sns.boxplot(ax=axes[i, 0], data=data_eda[column])\n",
    "    axes[i, 0].set_title(f'{column} - Outliers')\n",
    "    \n",
    "    sns.histplot(ax=axes[i, 1], data=data_eda[column], kde=True)\n",
    "    axes[i, 1].set_title(f'{column} - Distribution')\n",
    "\n",
    "plt.tight_layout()\n",
    "plt.show()\n"
   ]
  },
  {
   "cell_type": "code",
   "execution_count": 22,
   "metadata": {},
   "outputs": [],
   "source": [
    "out_skew_data=data_eda.copy(True)\n"
   ]
  },
  {
   "cell_type": "code",
   "execution_count": 23,
   "metadata": {},
   "outputs": [
    {
     "name": "stdout",
     "output_type": "stream",
     "text": [
      "quantity tons : 4 \n",
      "thickness : 0 \n",
      "width : 0 \n",
      "selling_price : 7 \n"
     ]
    }
   ],
   "source": [
    "skewed_columns = ['quantity tons', 'thickness', 'width', 'selling_price']\n",
    "for column in skewed_columns:\n",
    "    neg = (out_skew_data[column] <= 0)\n",
    "    print(f'{column} : {neg.sum()} ')\n",
    "    out_skew_data.loc[neg,column] = np.nan"
   ]
  },
  {
   "cell_type": "code",
   "execution_count": 24,
   "metadata": {},
   "outputs": [
    {
     "data": {
      "text/plain": [
       "item_date        0\n",
       "quantity tons    4\n",
       "customer         0\n",
       "country          0\n",
       "status           0\n",
       "item type        0\n",
       "application      0\n",
       "thickness        0\n",
       "width            0\n",
       "material_ref     0\n",
       "product_ref      0\n",
       "delivery date    0\n",
       "selling_price    7\n",
       "dtype: int64"
      ]
     },
     "execution_count": 24,
     "metadata": {},
     "output_type": "execute_result"
    }
   ],
   "source": [
    "out_skew_data.isna().sum()"
   ]
  },
  {
   "cell_type": "code",
   "execution_count": 37,
   "metadata": {},
   "outputs": [],
   "source": [
    "out_skew_data.dropna(inplace=True)"
   ]
  },
  {
   "cell_type": "code",
   "execution_count": 38,
   "metadata": {},
   "outputs": [
    {
     "data": {
      "text/plain": [
       "item_date        0\n",
       "quantity tons    0\n",
       "customer         0\n",
       "country          0\n",
       "status           0\n",
       "item type        0\n",
       "application      0\n",
       "thickness        0\n",
       "width            0\n",
       "material_ref     0\n",
       "product_ref      0\n",
       "delivery date    0\n",
       "selling_price    0\n",
       "dtype: int64"
      ]
     },
     "execution_count": 38,
     "metadata": {},
     "output_type": "execute_result"
    }
   ],
   "source": [
    "out_skew_data.isna().sum()\n"
   ]
  },
  {
   "cell_type": "code",
   "execution_count": 39,
   "metadata": {},
   "outputs": [
    {
     "name": "stdout",
     "output_type": "stream",
     "text": [
      "quantity tons    424.677959\n",
      "customer          86.982674\n",
      "country            0.753023\n",
      "application        0.724614\n",
      "thickness         15.291371\n",
      "width              0.374564\n",
      "product_ref        1.015276\n",
      "selling_price    301.378964\n",
      "dtype: float64\n"
     ]
    }
   ],
   "source": [
    "# Filter only numeric columns\n",
    "numeric_columns = out_skew_data.select_dtypes(include=['number'])\n",
    "# Calculate skewness for numeric columns\n",
    "skewness_values = numeric_columns.skew()\n",
    "print(skewness_values)\n"
   ]
  },
  {
   "cell_type": "code",
   "execution_count": 40,
   "metadata": {},
   "outputs": [
    {
     "name": "stdout",
     "output_type": "stream",
     "text": [
      "Summary statistics before removing outliers:\n",
      "       quantity tons      thickness          width  selling_price\n",
      "count   1.816620e+05  181662.000000  181662.000000   1.816620e+05\n",
      "mean    5.875291e+03       2.551133    1295.289042   1.918156e+03\n",
      "std     2.349146e+06       2.977116     261.638547   3.318048e+05\n",
      "min     1.000000e-05       0.180000       1.000000   1.000000e-01\n",
      "25%     1.097088e+01       0.700000    1180.000000   6.690000e+02\n",
      "50%     3.036501e+01       1.500000    1250.000000   8.120000e+02\n",
      "75%     6.716141e+01       3.000000    1500.000000   9.530000e+02\n",
      "max     1.000000e+09     400.000000    2990.000000   1.000010e+08\n",
      "\n",
      "Summary statistics after removing outliers:\n",
      "       quantity tons      thickness          width  selling_price\n",
      "count  132631.000000  132631.000000  132631.000000  132631.000000\n",
      "mean       35.586278       1.803089    1265.155654     841.050729\n",
      "std        31.885531       1.441616     174.815790     189.197046\n",
      "min         0.000010       0.180000     855.000000     396.000000\n",
      "25%         9.564901       0.700000    1180.000000     692.000000\n",
      "50%        27.650488       1.250000    1250.000000     832.000000\n",
      "75%        51.948853       2.500000    1410.000000     971.000000\n",
      "max       144.399648       6.300000    1810.000000    1365.000000\n"
     ]
    }
   ],
   "source": [
    "outlier_columns = ['quantity tons', 'thickness', 'width', 'selling_price']\n",
    "\n",
    "before_stats = out_skew_data[outlier_columns].describe()\n",
    "\n",
    "for column in outlier_columns:\n",
    "    Q1 = out_skew_data[column].quantile(0.30)  # 30th percentile\n",
    "    Q3 = out_skew_data[column].quantile(0.75)  # 75th percentile\n",
    "    IQR = Q3 - Q1  # Interquartile range\n",
    "    lower_bound = Q1 - 1.5 * IQR  # Lower bound for outlier detection\n",
    "    upper_bound = Q3 + 1.5 * IQR  # Upper bound for outlier detection\n",
    "    out_skew_data = out_skew_data[(out_skew_data[column] >= lower_bound) & (out_skew_data[column] <= upper_bound)]\n",
    "\n",
    "after_stats = out_skew_data[outlier_columns].describe()\n",
    "\n",
    "print(\"Summary statistics before removing outliers:\")\n",
    "print(before_stats)\n",
    "print(\"\\nSummary statistics after removing outliers:\")\n",
    "print(after_stats)\n",
    "\n"
   ]
  },
  {
   "cell_type": "code",
   "execution_count": 41,
   "metadata": {},
   "outputs": [
    {
     "data": {
      "text/plain": [
       "<function matplotlib.pyplot.show(close=None, block=None)>"
      ]
     },
     "execution_count": 41,
     "metadata": {},
     "output_type": "execute_result"
    },
    {
     "data": {
      "image/png": "[encoded data removed]",
      "text/plain": [
       "<Figure size 1800x1500 with 16 Axes>"
      ]
     },
     "metadata": {},
     "output_type": "display_data"
    }
   ],
   "source": [
    "out_skew_data.plot(kind='box',subplots=True,layout=(4,4),figsize=(18,15))\n",
    "plt.show\n"
   ]
  },
  {
   "cell_type": "code",
   "execution_count": 42,
   "metadata": {},
   "outputs": [
    {
     "name": "stderr",
     "output_type": "stream",
     "text": [
      "C:\\Users\\tpsna\\AppData\\Local\\Temp\\ipykernel_9648\\3635200171.py:7: UserWarning: \n",
      "\n",
      "`distplot` is a deprecated function and will be removed in seaborn v0.14.0.\n",
      "\n",
      "Please adapt your code to use either `displot` (a figure-level function with\n",
      "similar flexibility) or `histplot` (an axes-level function for histograms).\n",
      "\n",
      "For a guide to updating your code to use the new functions, please see\n",
      "https://gist.github.com/mwaskom/de44147ed2974457ad6372750bbe5751\n",
      "\n",
      "  sns.distplot(out_skew_data[column], kde=True, ax=axes[i])\n",
      "C:\\Users\\tpsna\\AppData\\Local\\Temp\\ipykernel_9648\\3635200171.py:7: UserWarning: \n",
      "\n",
      "`distplot` is a deprecated function and will be removed in seaborn v0.14.0.\n",
      "\n",
      "Please adapt your code to use either `displot` (a figure-level function with\n",
      "similar flexibility) or `histplot` (an axes-level function for histograms).\n",
      "\n",
      "For a guide to updating your code to use the new functions, please see\n",
      "https://gist.github.com/mwaskom/de44147ed2974457ad6372750bbe5751\n",
      "\n",
      "  sns.distplot(out_skew_data[column], kde=True, ax=axes[i])\n",
      "C:\\Users\\tpsna\\AppData\\Local\\Temp\\ipykernel_9648\\3635200171.py:7: UserWarning: \n",
      "\n",
      "`distplot` is a deprecated function and will be removed in seaborn v0.14.0.\n",
      "\n",
      "Please adapt your code to use either `displot` (a figure-level function with\n",
      "similar flexibility) or `histplot` (an axes-level function for histograms).\n",
      "\n",
      "For a guide to updating your code to use the new functions, please see\n",
      "https://gist.github.com/mwaskom/de44147ed2974457ad6372750bbe5751\n",
      "\n",
      "  sns.distplot(out_skew_data[column], kde=True, ax=axes[i])\n",
      "C:\\Users\\tpsna\\AppData\\Local\\Temp\\ipykernel_9648\\3635200171.py:7: UserWarning: \n",
      "\n",
      "`distplot` is a deprecated function and will be removed in seaborn v0.14.0.\n",
      "\n",
      "Please adapt your code to use either `displot` (a figure-level function with\n",
      "similar flexibility) or `histplot` (an axes-level function for histograms).\n",
      "\n",
      "For a guide to updating your code to use the new functions, please see\n",
      "https://gist.github.com/mwaskom/de44147ed2974457ad6372750bbe5751\n",
      "\n",
      "  sns.distplot(out_skew_data[column], kde=True, ax=axes[i])\n"
     ]
    },
    {
     "data": {
      "image/png": "[encoded data removed]",
      "text/plain": [
       "<Figure size 1500x500 with 4 Axes>"
      ]
     },
     "metadata": {},
     "output_type": "display_data"
    }
   ],
   "source": [
    "outlier_columns = ['quantity tons', 'thickness', 'width', 'selling_price']\n",
    "\n",
    "# Plot the histograms of the transformed data\n",
    "fig, axes = plt.subplots(1, 4,figsize=(15, 5))\n",
    "axes = axes.flatten()\n",
    "for i, column in enumerate(outlier_columns):\n",
    "    sns.distplot(out_skew_data[column], kde=True, ax=axes[i])\n",
    "    axes[i].set_title(f\"Transformed {column}\")\n",
    "\n",
    "plt.tight_layout()\n",
    "plt.show()"
   ]
  },
  {
   "cell_type": "code",
   "execution_count": 44,
   "metadata": {},
   "outputs": [
    {
     "name": "stdout",
     "output_type": "stream",
     "text": [
      "quantity tons      1.239223\n",
      "customer         210.220811\n",
      "country            0.700979\n",
      "application        0.684824\n",
      "thickness          1.276129\n",
      "width              0.057992\n",
      "product_ref        0.983758\n",
      "selling_price      0.310072\n",
      "dtype: float64\n"
     ]
    }
   ],
   "source": [
    "numeric_columns = out_skew_data.select_dtypes(include=['number'])\n",
    "# to Calculate skewness for numeric columns\n",
    "skewness_values = numeric_columns.skew()\n",
    "print(skewness_values)"
   ]
  },
  {
   "cell_type": "markdown",
   "metadata": {},
   "source": [
    "Here are some guidelines for interpreting skewness values:\n",
    "\n",
    "Skewness value close to 0: The distribution is approximately symmetrical.\n",
    "Skewness value between -0.5 and -1 or between 0.5 and 1: The distribution is moderately skewed.\n",
    "Skewness value less than -1 or greater than 1: The distribution is highly skewed."
   ]
  },
  {
   "cell_type": "markdown",
   "metadata": {},
   "source": [
    "FEATURE ENGINEERING:"
   ]
  },
  {
   "cell_type": "code",
   "execution_count": 26,
   "metadata": {},
   "outputs": [
    {
     "name": "stdout",
     "output_type": "stream",
     "text": [
      "<class 'pandas.core.frame.DataFrame'>\n",
      "RangeIndex: 181673 entries, 0 to 181672\n",
      "Data columns (total 13 columns):\n",
      " #   Column         Non-Null Count   Dtype  \n",
      "---  ------         --------------   -----  \n",
      " 0   item_date      181673 non-null  object \n",
      " 1   quantity tons  181669 non-null  float64\n",
      " 2   customer       181673 non-null  float64\n",
      " 3   country        181673 non-null  int64  \n",
      " 4   status         181673 non-null  object \n",
      " 5   item type      181673 non-null  object \n",
      " 6   application    181673 non-null  float64\n",
      " 7   thickness      181673 non-null  float64\n",
      " 8   width          181673 non-null  float64\n",
      " 9   material_ref   181673 non-null  object \n",
      " 10  product_ref    181673 non-null  int64  \n",
      " 11  delivery date  181673 non-null  object \n",
      " 12  selling_price  181666 non-null  float64\n",
      "dtypes: float64(6), int64(2), object(5)\n",
      "memory usage: 18.0+ MB\n"
     ]
    }
   ],
   "source": [
    "skewed_data=out_skew_data.copy(True)\n",
    "skewed_data.info()"
   ]
  },
  {
   "cell_type": "code",
   "execution_count": 79,
   "metadata": {},
   "outputs": [
    {
     "data": {
      "text/html": [
       "<div>\n",
       "<style scoped>\n",
       "    .dataframe tbody tr th:only-of-type {\n",
       "        vertical-align: middle;\n",
       "    }\n",
       "\n",
       "    .dataframe tbody tr th {\n",
       "        vertical-align: top;\n",
       "    }\n",
       "\n",
       "    .dataframe thead th {\n",
       "        text-align: right;\n",
       "    }\n",
       "</style>\n",
       "<table border=\"1\" class=\"dataframe\">\n",
       "  <thead>\n",
       "    <tr style=\"text-align: right;\">\n",
       "      <th></th>\n",
       "      <th>item_date</th>\n",
       "      <th>quantity tons</th>\n",
       "      <th>customer</th>\n",
       "      <th>country</th>\n",
       "      <th>status</th>\n",
       "      <th>item type</th>\n",
       "      <th>application</th>\n",
       "      <th>thickness</th>\n",
       "      <th>width</th>\n",
       "      <th>material_ref</th>\n",
       "      <th>product_ref</th>\n",
       "      <th>delivery date</th>\n",
       "      <th>selling_price</th>\n",
       "      <th>delivery_time_taken</th>\n",
       "    </tr>\n",
       "  </thead>\n",
       "  <tbody>\n",
       "    <tr>\n",
       "      <th>0</th>\n",
       "      <td>2021-04-01</td>\n",
       "      <td>54.151139</td>\n",
       "      <td>30156308.0</td>\n",
       "      <td>28</td>\n",
       "      <td>Won</td>\n",
       "      <td>W</td>\n",
       "      <td>10.0</td>\n",
       "      <td>2.00</td>\n",
       "      <td>1500.0</td>\n",
       "      <td>DEQ1 S460MC</td>\n",
       "      <td>1670798778</td>\n",
       "      <td>2021-07-01</td>\n",
       "      <td>854.0</td>\n",
       "      <td>91</td>\n",
       "    </tr>\n",
       "    <tr>\n",
       "      <th>7</th>\n",
       "      <td>2021-04-01</td>\n",
       "      <td>113.387124</td>\n",
       "      <td>30342192.0</td>\n",
       "      <td>32</td>\n",
       "      <td>Won</td>\n",
       "      <td>W</td>\n",
       "      <td>41.0</td>\n",
       "      <td>0.68</td>\n",
       "      <td>1220.0</td>\n",
       "      <td>DX51D+Z</td>\n",
       "      <td>611993</td>\n",
       "      <td>2021-01-01</td>\n",
       "      <td>931.0</td>\n",
       "      <td>90</td>\n",
       "    </tr>\n",
       "    <tr>\n",
       "      <th>8</th>\n",
       "      <td>2021-04-01</td>\n",
       "      <td>69.071853</td>\n",
       "      <td>30341428.0</td>\n",
       "      <td>38</td>\n",
       "      <td>Won</td>\n",
       "      <td>S</td>\n",
       "      <td>10.0</td>\n",
       "      <td>0.60</td>\n",
       "      <td>1275.0</td>\n",
       "      <td>DX51D+Z</td>\n",
       "      <td>1668701376</td>\n",
       "      <td>2021-07-01</td>\n",
       "      <td>1363.0</td>\n",
       "      <td>91</td>\n",
       "    </tr>\n",
       "    <tr>\n",
       "      <th>11</th>\n",
       "      <td>2021-04-01</td>\n",
       "      <td>113.995666</td>\n",
       "      <td>30342192.0</td>\n",
       "      <td>32</td>\n",
       "      <td>Won</td>\n",
       "      <td>W</td>\n",
       "      <td>41.0</td>\n",
       "      <td>0.55</td>\n",
       "      <td>1220.0</td>\n",
       "      <td>DX51D+Z</td>\n",
       "      <td>611993</td>\n",
       "      <td>2021-01-01</td>\n",
       "      <td>954.0</td>\n",
       "      <td>90</td>\n",
       "    </tr>\n",
       "    <tr>\n",
       "      <th>12</th>\n",
       "      <td>2021-04-01</td>\n",
       "      <td>27.512545</td>\n",
       "      <td>30165529.0</td>\n",
       "      <td>78</td>\n",
       "      <td>Won</td>\n",
       "      <td>W</td>\n",
       "      <td>10.0</td>\n",
       "      <td>0.75</td>\n",
       "      <td>1250.0</td>\n",
       "      <td>DX51D+Z</td>\n",
       "      <td>164141591</td>\n",
       "      <td>2021-07-01</td>\n",
       "      <td>1098.0</td>\n",
       "      <td>91</td>\n",
       "    </tr>\n",
       "  </tbody>\n",
       "</table>\n",
       "</div>"
      ],
      "text/plain": [
       "    item_date  quantity tons    customer  country status item type  \\\n",
       "0  2021-04-01      54.151139  30156308.0       28    Won         W   \n",
       "7  2021-04-01     113.387124  30342192.0       32    Won         W   \n",
       "8  2021-04-01      69.071853  30341428.0       38    Won         S   \n",
       "11 2021-04-01     113.995666  30342192.0       32    Won         W   \n",
       "12 2021-04-01      27.512545  30165529.0       78    Won         W   \n",
       "\n",
       "    application  thickness   width material_ref  product_ref delivery date  \\\n",
       "0          10.0       2.00  1500.0  DEQ1 S460MC   1670798778    2021-07-01   \n",
       "7          41.0       0.68  1220.0      DX51D+Z       611993    2021-01-01   \n",
       "8          10.0       0.60  1275.0      DX51D+Z   1668701376    2021-07-01   \n",
       "11         41.0       0.55  1220.0      DX51D+Z       611993    2021-01-01   \n",
       "12         10.0       0.75  1250.0      DX51D+Z    164141591    2021-07-01   \n",
       "\n",
       "    selling_price  delivery_time_taken  \n",
       "0           854.0                   91  \n",
       "7           931.0                   90  \n",
       "8          1363.0                   91  \n",
       "11          954.0                   90  \n",
       "12         1098.0                   91  "
      ]
     },
     "execution_count": 79,
     "metadata": {},
     "output_type": "execute_result"
    }
   ],
   "source": [
    "# Ensure the date columns are in datetime format\n",
    "skewed_data['item_date'] = pd.to_datetime(skewed_data['item_date'])\n",
    "skewed_data['delivery date'] = pd.to_datetime(skewed_data['delivery date'])\n",
    "\n",
    "skewed_data['delivery_time_taken'] = (skewed_data['item_date'] - skewed_data['delivery date']).abs().dt.days\n",
    "\n",
    "skewed_data.head()\n"
   ]
  },
  {
   "cell_type": "code",
   "execution_count": 80,
   "metadata": {},
   "outputs": [],
   "source": [
    "x=skewed_data[['application','thickness','width','selling_price','quantity tons','country','customer','product_ref','delivery_time_taken']].corr()\n"
   ]
  },
  {
   "cell_type": "code",
   "execution_count": 81,
   "metadata": {},
   "outputs": [
    {
     "data": {
      "text/plain": [
       "<Axes: >"
      ]
     },
     "execution_count": 81,
     "metadata": {},
     "output_type": "execute_result"
    },
    {
     "data": {
      "image/png": "[encoded data removed]",
      "text/plain": [
       "<Figure size 640x480 with 2 Axes>"
      ]
     },
     "metadata": {},
     "output_type": "display_data"
    }
   ],
   "source": [
    "#Heatmap to find the correlation\n",
    "sns.heatmap(x, annot=True, cmap=\"viridis\")"
   ]
  },
  {
   "cell_type": "code",
   "execution_count": 85,
   "metadata": {},
   "outputs": [
    {
     "name": "stdout",
     "output_type": "stream",
     "text": [
      "['28' '32' '38' '78' '27' '30' '25' '77' '39' '40' '26' '84' '80' '79'\n",
      " '113' '89']\n",
      "['Won' 'To be approved' 'Lost' 'Not lost for AM' 'Wonderful' 'Revised'\n",
      " 'Offered' 'Offerable']\n",
      "['W' 'S' 'Others' 'PL' 'WI' 'IPL']\n"
     ]
    }
   ],
   "source": [
    "#Finding the Unique Values:\n",
    "skewed_data['country'] = skewed_data['country'].astype(str)\n",
    "country=skewed_data['country'].unique()\n",
    "status=skewed_data['status'].unique()\n",
    "item=skewed_data['item type'].unique()\n",
    "print(country)\n",
    "print(status)\n",
    "print(item)"
   ]
  },
  {
   "cell_type": "code",
   "execution_count": 88,
   "metadata": {},
   "outputs": [
    {
     "data": {
      "text/plain": [
       "item_date              0\n",
       "quantity tons          0\n",
       "customer               0\n",
       "country                0\n",
       "status                 0\n",
       "item type              0\n",
       "application            0\n",
       "thickness              0\n",
       "width                  0\n",
       "material_ref           0\n",
       "product_ref            0\n",
       "delivery date          0\n",
       "selling_price          0\n",
       "delivery_time_taken    0\n",
       "dtype: int64"
      ]
     },
     "execution_count": 88,
     "metadata": {},
     "output_type": "execute_result"
    }
   ],
   "source": [
    "skewed_data.isna().sum()"
   ]
  },
  {
   "cell_type": "code",
   "execution_count": 31,
   "metadata": {},
   "outputs": [
    {
     "name": "stdout",
     "output_type": "stream",
     "text": [
      "<class 'pandas.core.frame.DataFrame'>\n",
      "RangeIndex: 181673 entries, 0 to 181672\n",
      "Data columns (total 13 columns):\n",
      " #   Column         Non-Null Count   Dtype  \n",
      "---  ------         --------------   -----  \n",
      " 0   item_date      181673 non-null  object \n",
      " 1   quantity tons  181669 non-null  float64\n",
      " 2   customer       181673 non-null  float64\n",
      " 3   country        181673 non-null  int64  \n",
      " 4   status         181673 non-null  object \n",
      " 5   item type      181673 non-null  object \n",
      " 6   application    181673 non-null  float64\n",
      " 7   thickness      181673 non-null  float64\n",
      " 8   width          181673 non-null  float64\n",
      " 9   material_ref   181673 non-null  object \n",
      " 10  product_ref    181673 non-null  int64  \n",
      " 11  delivery date  181673 non-null  object \n",
      " 12  selling_price  181666 non-null  float64\n",
      "dtypes: float64(6), int64(2), object(5)\n",
      "memory usage: 18.0+ MB\n"
     ]
    }
   ],
   "source": [
    "skewed_data.info()"
   ]
  },
  {
   "cell_type": "code",
   "execution_count": 108,
   "metadata": {},
   "outputs": [
    {
     "name": "stdout",
     "output_type": "stream",
     "text": [
      "[ 4  6  7 11  3  5  1 10  8  9  2 14 13 12  0 15]\n",
      "[6 5 0 1 7 4 3 2]\n",
      "[4 3 1 2 5 0]\n"
     ]
    }
   ],
   "source": [
    "#Encoding the categorical column:\n",
    "encode=LabelEncoder()\n",
    "encode_country=encode.fit(country)\n",
    "transformed_country = encode_country.transform(country)\n",
    "\n",
    "encode=LabelEncoder()\n",
    "encode_status=encode.fit(status)\n",
    "transformed_status = encode_status.transform(status)\n",
    "\n",
    "encode=LabelEncoder()\n",
    "encode_item=encode.fit(item)\n",
    "transformed_item = encode_item.transform(item)\n",
    "\n",
    "print(transformed_country)\n",
    "print(transformed_status)\n",
    "print(transformed_item)\n"
   ]
  },
  {
   "cell_type": "code",
   "execution_count": 109,
   "metadata": {},
   "outputs": [
    {
     "name": "stdout",
     "output_type": "stream",
     "text": [
      "before encoding : Won --- encoded : 6\n",
      "before encoding : To be approved --- encoded : 5\n",
      "before encoding : Lost --- encoded : 0\n",
      "before encoding : Not lost for AM --- encoded : 1\n",
      "before encoding : Wonderful --- encoded : 7\n",
      "before encoding : Revised --- encoded : 4\n",
      "before encoding : Offered --- encoded : 3\n",
      "before encoding : Offerable --- encoded : 2\n"
     ]
    }
   ],
   "source": [
    "for i, j in zip(status, transformed_status):\n",
    "    print('before encoding :',i,'--- encoded :',j)"
   ]
  },
  {
   "cell_type": "code",
   "execution_count": 52,
   "metadata": {},
   "outputs": [
    {
     "name": "stdout",
     "output_type": "stream",
     "text": [
      "Pickle file created: country.pkl, status.pkl,item type.pkl\n"
     ]
    }
   ],
   "source": [
    "\n",
    "file_path='country.pkl'\n",
    "file_path2='status.pkl'\n",
    "file_path3='item type.pkl'\n",
    "\n",
    "with open(file_path, 'wb') as file:\n",
    "    pickle.dump(encode_country, file)\n",
    "with open(file_path2, 'wb') as file:\n",
    "    pickle.dump(encode_status, file)\n",
    "with open(file_path3, 'wb') as file:\n",
    "    pickle.dump(encode_item, file)\n",
    "\n",
    "print(f'Pickle file created: {file_path}, {file_path2},{file_path3}')\n"
   ]
  },
  {
   "cell_type": "code",
   "execution_count": 53,
   "metadata": {},
   "outputs": [
    {
     "data": {
      "text/plain": [
       "array([6, 5, 0, 1, 7, 4, 3, 2])"
      ]
     },
     "execution_count": 53,
     "metadata": {},
     "output_type": "execute_result"
    }
   ],
   "source": [
    "with open('status.pkl', 'rb') as file:\n",
    "    encode_status = pickle.load(file)\n",
    "    \n",
    "transformed_status = encode_status.transform(status)\n",
    "transformed_status\n"
   ]
  },
  {
   "cell_type": "code",
   "execution_count": 54,
   "metadata": {},
   "outputs": [
    {
     "name": "stdout",
     "output_type": "stream",
     "text": [
      "status\n",
      "[6 5 0 1 7 4 3 2]\n",
      "item type\n",
      "[4 3 1 2 5 0]\n",
      "country\n",
      "[ 4  6  7 11  3  5  1 10  8  9  2 14 13 12  0 15]\n"
     ]
    },
    {
     "data": {
      "text/html": [
       "<div>\n",
       "<style scoped>\n",
       "    .dataframe tbody tr th:only-of-type {\n",
       "        vertical-align: middle;\n",
       "    }\n",
       "\n",
       "    .dataframe tbody tr th {\n",
       "        vertical-align: top;\n",
       "    }\n",
       "\n",
       "    .dataframe thead th {\n",
       "        text-align: right;\n",
       "    }\n",
       "</style>\n",
       "<table border=\"1\" class=\"dataframe\">\n",
       "  <thead>\n",
       "    <tr style=\"text-align: right;\">\n",
       "      <th></th>\n",
       "      <th>item_date</th>\n",
       "      <th>quantity tons</th>\n",
       "      <th>customer</th>\n",
       "      <th>country</th>\n",
       "      <th>status</th>\n",
       "      <th>item type</th>\n",
       "      <th>application</th>\n",
       "      <th>thickness</th>\n",
       "      <th>width</th>\n",
       "      <th>material_ref</th>\n",
       "      <th>product_ref</th>\n",
       "      <th>delivery date</th>\n",
       "      <th>selling_price</th>\n",
       "      <th>delivery_time_taken</th>\n",
       "    </tr>\n",
       "  </thead>\n",
       "  <tbody>\n",
       "    <tr>\n",
       "      <th>0</th>\n",
       "      <td>2021-04-01</td>\n",
       "      <td>54.151139</td>\n",
       "      <td>30156308.0</td>\n",
       "      <td>4</td>\n",
       "      <td>6</td>\n",
       "      <td>4</td>\n",
       "      <td>10.0</td>\n",
       "      <td>2.00</td>\n",
       "      <td>1500.0</td>\n",
       "      <td>DEQ1 S460MC</td>\n",
       "      <td>1670798778</td>\n",
       "      <td>2021-07-01</td>\n",
       "      <td>854.0</td>\n",
       "      <td>91</td>\n",
       "    </tr>\n",
       "    <tr>\n",
       "      <th>7</th>\n",
       "      <td>2021-04-01</td>\n",
       "      <td>113.387124</td>\n",
       "      <td>30342192.0</td>\n",
       "      <td>6</td>\n",
       "      <td>6</td>\n",
       "      <td>4</td>\n",
       "      <td>41.0</td>\n",
       "      <td>0.68</td>\n",
       "      <td>1220.0</td>\n",
       "      <td>DX51D+Z</td>\n",
       "      <td>611993</td>\n",
       "      <td>2021-01-01</td>\n",
       "      <td>931.0</td>\n",
       "      <td>90</td>\n",
       "    </tr>\n",
       "    <tr>\n",
       "      <th>8</th>\n",
       "      <td>2021-04-01</td>\n",
       "      <td>69.071853</td>\n",
       "      <td>30341428.0</td>\n",
       "      <td>7</td>\n",
       "      <td>6</td>\n",
       "      <td>3</td>\n",
       "      <td>10.0</td>\n",
       "      <td>0.60</td>\n",
       "      <td>1275.0</td>\n",
       "      <td>DX51D+Z</td>\n",
       "      <td>1668701376</td>\n",
       "      <td>2021-07-01</td>\n",
       "      <td>1363.0</td>\n",
       "      <td>91</td>\n",
       "    </tr>\n",
       "    <tr>\n",
       "      <th>11</th>\n",
       "      <td>2021-04-01</td>\n",
       "      <td>113.995666</td>\n",
       "      <td>30342192.0</td>\n",
       "      <td>6</td>\n",
       "      <td>6</td>\n",
       "      <td>4</td>\n",
       "      <td>41.0</td>\n",
       "      <td>0.55</td>\n",
       "      <td>1220.0</td>\n",
       "      <td>DX51D+Z</td>\n",
       "      <td>611993</td>\n",
       "      <td>2021-01-01</td>\n",
       "      <td>954.0</td>\n",
       "      <td>90</td>\n",
       "    </tr>\n",
       "    <tr>\n",
       "      <th>12</th>\n",
       "      <td>2021-04-01</td>\n",
       "      <td>27.512545</td>\n",
       "      <td>30165529.0</td>\n",
       "      <td>11</td>\n",
       "      <td>6</td>\n",
       "      <td>4</td>\n",
       "      <td>10.0</td>\n",
       "      <td>0.75</td>\n",
       "      <td>1250.0</td>\n",
       "      <td>DX51D+Z</td>\n",
       "      <td>164141591</td>\n",
       "      <td>2021-07-01</td>\n",
       "      <td>1098.0</td>\n",
       "      <td>91</td>\n",
       "    </tr>\n",
       "  </tbody>\n",
       "</table>\n",
       "</div>"
      ],
      "text/plain": [
       "    item_date  quantity tons    customer  country  status  item type  \\\n",
       "0  2021-04-01      54.151139  30156308.0        4       6          4   \n",
       "7  2021-04-01     113.387124  30342192.0        6       6          4   \n",
       "8  2021-04-01      69.071853  30341428.0        7       6          3   \n",
       "11 2021-04-01     113.995666  30342192.0        6       6          4   \n",
       "12 2021-04-01      27.512545  30165529.0       11       6          4   \n",
       "\n",
       "    application  thickness   width material_ref  product_ref delivery date  \\\n",
       "0          10.0       2.00  1500.0  DEQ1 S460MC   1670798778    2021-07-01   \n",
       "7          41.0       0.68  1220.0      DX51D+Z       611993    2021-01-01   \n",
       "8          10.0       0.60  1275.0      DX51D+Z   1668701376    2021-07-01   \n",
       "11         41.0       0.55  1220.0      DX51D+Z       611993    2021-01-01   \n",
       "12         10.0       0.75  1250.0      DX51D+Z    164141591    2021-07-01   \n",
       "\n",
       "    selling_price  delivery_time_taken  \n",
       "0           854.0                   91  \n",
       "7           931.0                   90  \n",
       "8          1363.0                   91  \n",
       "11          954.0                   90  \n",
       "12         1098.0                   91  "
      ]
     },
     "execution_count": 54,
     "metadata": {},
     "output_type": "execute_result"
    }
   ],
   "source": [
    "#Regression Model for Finding Selling Price\n",
    "category_col=['status', 'item type','country']\n",
    "encoder= LabelEncoder()\n",
    "for i in category_col:\n",
    "    print(i)\n",
    "    skewed_data[i] = encoder.fit_transform(skewed_data[i])\n",
    "    print(skewed_data[i].unique())\n",
    "\n",
    "skewed_data.head()\n"
   ]
  },
  {
   "cell_type": "code",
   "execution_count": 55,
   "metadata": {},
   "outputs": [],
   "source": [
    "X = skewed_data[[ 'quantity tons','thickness','width','country','status','item type', 'application','product_ref','delivery_time_taken']].values\n",
    "y = skewed_data[['selling_price']].values\n",
    "\n",
    "scaler = StandardScaler().fit(X)\n",
    "X = scaler.transform(X)\n",
    "\n",
    "# Split the dataset into training and testing sets\n",
    "X_train, X_test, y_train, y_test = train_test_split(X, y, test_size=0.3, random_state=42)\n"
   ]
  },
  {
   "cell_type": "code",
   "execution_count": null,
   "metadata": {},
   "outputs": [
    {
     "name": "stdout",
     "output_type": "stream",
     "text": [
      "Pickle file created: scaling.pkl\n"
     ]
    }
   ],
   "source": [
    "file_path6='scaling.pkl'\n",
    "with open(file_path6, 'wb') as file:\n",
    "    pickle.dump(scaler, file)\n",
    "print(f'Pickle file created: {file_path6}')"
   ]
  },
  {
   "cell_type": "markdown",
   "metadata": {},
   "source": [
    "REGRESSION MODEL:"
   ]
  },
  {
   "cell_type": "code",
   "execution_count": 56,
   "metadata": {},
   "outputs": [
    {
     "name": "stdout",
     "output_type": "stream",
     "text": [
      "Mean Squared Error: 16338.746438448605\n",
      "R^2 Score: 0.5437063357219243\n"
     ]
    }
   ],
   "source": [
    "\n",
    "feature_cols = ['quantity tons', 'thickness', 'width', 'country', 'status', 'item type', 'application', 'product_ref', 'delivery_time_taken']\n",
    "target_col = 'selling_price'\n",
    "\n",
    "X = skewed_data[feature_cols]\n",
    "y = skewed_data[target_col]\n",
    "\n",
    "numerical_features = ['quantity tons', 'thickness', 'width', 'delivery_time_taken']\n",
    "categorical_features = ['country', 'status', 'item type', 'application', 'product_ref']\n",
    "\n",
    "numerical_transformer = StandardScaler()\n",
    "\n",
    "categorical_transformer = OneHotEncoder(handle_unknown='ignore')\n",
    "\n",
    "preprocessor = ColumnTransformer(\n",
    "    transformers=[\n",
    "        ('num', numerical_transformer, numerical_features),\n",
    "        ('cat', categorical_transformer, categorical_features)\n",
    "    ])\n",
    "\n",
    "# Define the model\n",
    "model = LinearRegression()\n",
    "\n",
    "pipeline = Pipeline(steps=[\n",
    "    ('preprocessor', preprocessor),\n",
    "    ('model', model)\n",
    "])\n",
    "\n",
    "X_train, X_test, y_train, y_test = train_test_split(X, y, test_size=0.3, random_state=42)\n",
    "\n",
    "pipeline.fit(X_train, y_train)\n",
    "\n",
    "y_pred = pipeline.predict(X_test)\n",
    "\n",
    "mse = mean_squared_error(y_test, y_pred)\n",
    "r2 = r2_score(y_test, y_pred)\n",
    "\n",
    "print(f'Mean Squared Error: {mse}')\n",
    "print(f'R^2 Score: {r2}')\n"
   ]
  },
  {
   "cell_type": "markdown",
   "metadata": {},
   "source": [
    "CLASSIFICATION MODEL:"
   ]
  },
  {
   "cell_type": "code",
   "execution_count": 43,
   "metadata": {},
   "outputs": [
    {
     "name": "stdout",
     "output_type": "stream",
     "text": [
      "Columns in skewed_data: Index(['item_date', 'quantity tons', 'customer', 'country', 'status',\n",
      "       'item type', 'application', 'thickness', 'width', 'material_ref',\n",
      "       'product_ref', 'delivery date', 'selling_price'],\n",
      "      dtype='object')\n",
      "Number of NaN values in each column before imputation:\n",
      "quantity tons    3\n",
      "thickness        0\n",
      "width            0\n",
      "country          0\n",
      "selling_price    5\n",
      "item type        0\n",
      "application      0\n",
      "product_ref      0\n",
      "dtype: int64\n",
      "Number of NaN values in each column after imputation:\n",
      "quantity tons    0\n",
      "thickness        0\n",
      "width            0\n",
      "country          0\n",
      "selling_price    0\n",
      "item type        0\n",
      "application      0\n",
      "product_ref      0\n",
      "dtype: int64\n",
      "Accuracy: 0.7685942173479561\n",
      "Classification Report:\n",
      "               precision    recall  f1-score   support\n",
      "\n",
      "         0.0       0.00      0.00      0.00      6963\n",
      "         1.0       0.77      1.00      0.87     23127\n",
      "\n",
      "    accuracy                           0.77     30090\n",
      "   macro avg       0.38      0.50      0.43     30090\n",
      "weighted avg       0.59      0.77      0.67     30090\n",
      "\n"
     ]
    },
    {
     "name": "stderr",
     "output_type": "stream",
     "text": [
      "c:\\Users\\tpsna\\AppData\\Local\\Programs\\Python\\Python312\\Lib\\site-packages\\sklearn\\metrics\\_classification.py:1509: UndefinedMetricWarning: Precision is ill-defined and being set to 0.0 in labels with no predicted samples. Use `zero_division` parameter to control this behavior.\n",
      "  _warn_prf(average, modifier, f\"{metric.capitalize()} is\", len(result))\n",
      "c:\\Users\\tpsna\\AppData\\Local\\Programs\\Python\\Python312\\Lib\\site-packages\\sklearn\\metrics\\_classification.py:1509: UndefinedMetricWarning: Precision is ill-defined and being set to 0.0 in labels with no predicted samples. Use `zero_division` parameter to control this behavior.\n",
      "  _warn_prf(average, modifier, f\"{metric.capitalize()} is\", len(result))\n",
      "c:\\Users\\tpsna\\AppData\\Local\\Programs\\Python\\Python312\\Lib\\site-packages\\sklearn\\metrics\\_classification.py:1509: UndefinedMetricWarning: Precision is ill-defined and being set to 0.0 in labels with no predicted samples. Use `zero_division` parameter to control this behavior.\n",
      "  _warn_prf(average, modifier, f\"{metric.capitalize()} is\", len(result))\n"
     ]
    }
   ],
   "source": [
    "\n",
    "feature_columns = ['quantity tons', 'thickness', 'width', 'country', 'selling_price', 'item type', 'application', 'product_ref']\n",
    "if 'delivery_time_taken' in skewed_data.columns:\n",
    "    feature_columns.append('delivery_time_taken')\n",
    "\n",
    "X = skewed_data[feature_columns]\n",
    "y = skewed_data['status']\n",
    "\n",
    "def preprocess_target(status):\n",
    "    if status == 'Won':\n",
    "        return 1  # WON\n",
    "    elif status == 'Lost':\n",
    "        return 0  # LOST\n",
    "    else:\n",
    "        return np.nan  \n",
    "\n",
    "y = y.apply(preprocess_target)\n",
    "\n",
    "valid_indices = ~y.isna()\n",
    "X = X[valid_indices]\n",
    "y = y[valid_indices]\n",
    "\n",
    "print(\"Number of NaN values in each column before imputation:\")\n",
    "print(X.isna().sum())\n",
    "\n",
    "for column in X.columns:\n",
    "    if X[column].dtype == 'object':\n",
    "        X[column] = X[column].fillna(X[column].mode()[0])\n",
    "    else:\n",
    "        X[column] = X[column].fillna(X[column].median())\n",
    "\n",
    "print(\"Number of NaN values in each column after imputation:\")\n",
    "print(X.isna().sum())\n",
    "\n",
    "X = pd.get_dummies(X, drop_first=True)\n",
    "\n",
    "# Split the data\n",
    "X_train, X_test, y_train, y_test = train_test_split(X, y, test_size=0.2, random_state=42)\n",
    "\n",
    "# Train a model\n",
    "model = LogisticRegression(max_iter=1000)\n",
    "model.fit(X_train, y_train)\n",
    "\n",
    "# Predict and evaluate\n",
    "y_pred = model.predict(X_test)\n",
    "print(\"Accuracy:\", accuracy_score(y_test, y_pred))\n",
    "print(\"Classification Report:\\n\", classification_report(y_test, y_pred))\n"
   ]
  },
  {
   "cell_type": "code",
   "execution_count": null,
   "metadata": {},
   "outputs": [],
   "source": []
  }
 ],
 "metadata": {
  "kernelspec": {
   "display_name": "Python 3",
   "language": "python",
   "name": "python3"
  },
  "language_info": {
   "codemirror_mode": {
    "name": "ipython",
    "version": 3
   },
   "file_extension": ".py",
   "mimetype": "text/x-python",
   "name": "python",
   "nbconvert_exporter": "python",
   "pygments_lexer": "ipython3",
   "version": "3.12.2"
  }
 },
 "nbformat": 4,
 "nbformat_minor": 2
}
